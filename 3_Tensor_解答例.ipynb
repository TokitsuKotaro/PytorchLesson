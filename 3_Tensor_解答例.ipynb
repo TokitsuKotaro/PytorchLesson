{
  "cells": [
    {
      "cell_type": "markdown",
      "metadata": {
        "id": "TGEladYqJNtE"
      },
      "source": [
        "# Tensorとは？\n",
        "---\n",
        "前単元まで`Tensor`の特徴を学んだ。  \n",
        "この単元ではTensorを利用する上で利用頻度が高い、関数などを学んでいこう！\n",
        "\n",
        "\n",
        "## この単元の目標\n",
        "\n",
        "* transposeの利用方法を学ぶ\n",
        "* reshapeの利用方法を学ぶ\n",
        "* zero_の利用方法を学ぶ\n",
        "\n",
        "  → **Tensor型でよく利用する関数について勉強していこう**"
      ]
    },
    {
      "cell_type": "code",
      "execution_count": null,
      "metadata": {
        "id": "l4QbFw0EJNtF"
      },
      "outputs": [],
      "source": [
        "# pytorchライブラリのインポート\n",
        "import torch"
      ]
    },
    {
      "cell_type": "markdown",
      "metadata": {
        "id": "kXYKBp6XJNtI"
      },
      "source": [
        "## Tensorを操作する関数\n",
        "---\n",
        "PyTorchでTensorを扱う際に利用頻度が高い、`transpose`と`reshape`の使い方を見ていこう\n",
        "\n",
        "それぞれの関数の働きは\n",
        "* `transpose`：**行列の転置**\n",
        "* `reshape`：**行列の形（サイズ）の変更**\n",
        "\n",
        "一つずつ体験していこう。\n",
        "\n",
        "---\n",
        "【例題1】プログラムを実行して実行結果から挙動を確かめよう。"
      ]
    },
    {
      "cell_type": "code",
      "execution_count": null,
      "metadata": {
        "id": "LPueLGPYJNtI",
        "outputId": "0b44065c-b7a5-471e-fdbb-0e56ec5559a4"
      },
      "outputs": [
        {
          "name": "stdout",
          "output_type": "stream",
          "text": [
            "tensor([[0.3353, 0.8688, 0.4435],\n",
            "        [0.3135, 0.5146, 0.0721],\n",
            "        [0.7371, 0.2581, 0.8868],\n",
            "        [0.6382, 0.5075, 0.6453]])\n",
            "tensor([[0.3353, 0.3135, 0.7371, 0.6382],\n",
            "        [0.8688, 0.5146, 0.2581, 0.5075],\n",
            "        [0.4435, 0.0721, 0.8868, 0.6453]])\n"
          ]
        }
      ],
      "source": [
        "x = torch.rand((4, 3))\n",
        "print(x)\n",
        "print(x.transpose(0, 1))"
      ]
    },
    {
      "cell_type": "markdown",
      "metadata": {
        "id": "4Orpgz1VJNtL"
      },
      "source": [
        "---\n",
        "4行3列の行列から3行4列の行列へ転置をすることができた。\n",
        "\n",
        "* `Tensor名.transpose(0, 1)`で転置することができる\n",
        "    * `torch.t(Tensor名)`でも同様の動作となる\n",
        "    \n",
        "**注意**\n",
        "* NumPyのtransposeとは処理が違うので混同しないように注意が必要\n",
        "\n",
        "---\n",
        "【例題2】プログラムを実行して実行結果から挙動を確かめよう。"
      ]
    },
    {
      "cell_type": "code",
      "execution_count": null,
      "metadata": {
        "id": "QNKl1_W2JNtM",
        "outputId": "0cfe7a5a-d3d5-465b-b3a9-029d122dd79e"
      },
      "outputs": [
        {
          "name": "stdout",
          "output_type": "stream",
          "text": [
            "tensor([1., 1., 1., 1., 1., 1., 1., 1., 1., 1., 1., 1., 1., 1., 1., 1.])\n",
            "tensor([[1., 1., 1., 1., 1., 1., 1., 1.],\n",
            "        [1., 1., 1., 1., 1., 1., 1., 1.]])\n",
            "tensor([[1., 1., 1., 1.],\n",
            "        [1., 1., 1., 1.],\n",
            "        [1., 1., 1., 1.],\n",
            "        [1., 1., 1., 1.]])\n"
          ]
        }
      ],
      "source": [
        "x = torch.ones(16)\n",
        "print(x)\n",
        "print(x.reshape(2, 8))\n",
        "print(x.reshape(4, -1))"
      ]
    },
    {
      "cell_type": "markdown",
      "metadata": {
        "id": "9tgDQASjJNtO"
      },
      "source": [
        "---\n",
        "要素を変えずに形状だけ変えることができた。\n",
        "\n",
        "* `Tensor名.reshape(行, 列)`で形状を指定できる\n",
        "    * 行や列の引数に`-1`を指定することで他方の次元の長さに合わせて自動で形状変換が可能。\n",
        "    \n",
        "---\n",
        "【問題】Tensor`[[1,1,1], [1,2,2], [2,2,3], [3,3,3]]`を宣言した後，3行に形状変換して表示しよう。"
      ]
    },
    {
      "cell_type": "code",
      "execution_count": null,
      "metadata": {
        "id": "8UbJKbFAJNtO",
        "outputId": "193aaecf-2371-4d6d-d26b-f7b7b669266f"
      },
      "outputs": [
        {
          "name": "stdout",
          "output_type": "stream",
          "text": [
            "tensor([[1, 1, 1, 1],\n",
            "        [2, 2, 2, 2],\n",
            "        [3, 3, 3, 3]])\n"
          ]
        }
      ],
      "source": [
        "y = torch.tensor([[1,1,1],[1,2,2],[2,2,3],[3,3,3]])\n",
        "print(y.reshape(3, -1))"
      ]
    },
    {
      "cell_type": "markdown",
      "metadata": {
        "id": "H6PccTTfJNtR"
      },
      "source": [
        "- ```\n",
        "tensor([[1, 1, 1, 1],\n",
        "        [2, 2, 2, 2],\n",
        "        [3, 3, 3, 3]])\n",
        "```\n",
        "と表示されていれば成功だ。"
      ]
    },
    {
      "cell_type": "markdown",
      "metadata": {
        "id": "YLvGsaK_JNtS"
      },
      "source": [
        "## Tensorを操作する関数2\n",
        "---\n",
        "次は`zero_()`を紹介する。\n",
        "\n",
        "関数の働きは\n",
        "* `zero_()`：**行列の全ての要素を0にする**\n",
        "\n",
        "\n",
        "---\n",
        "【例題】プログラムを実行して実行結果から挙動を確かめよう。"
      ]
    },
    {
      "cell_type": "code",
      "execution_count": null,
      "metadata": {
        "id": "lcx7tUC5JNtS",
        "outputId": "b5cabbdf-7e28-47b6-b4df-f72eefcd023a"
      },
      "outputs": [
        {
          "name": "stdout",
          "output_type": "stream",
          "text": [
            "tensor([[1, 2, 3],\n",
            "        [4, 5, 6]])\n",
            "tensor([[0, 0, 0],\n",
            "        [0, 0, 0]])\n"
          ]
        }
      ],
      "source": [
        "a = torch.tensor([[1,2,3],[4,5,6]]) # 手動作成\n",
        "print(a)\n",
        "a.zero_()# 中身をゼロ埋めにする\n",
        "print(a)"
      ]
    },
    {
      "cell_type": "markdown",
      "metadata": {
        "id": "z6Qz3XQOJNtU"
      },
      "source": [
        "---\n",
        "上記のプログラムのように、変数の値を残さず変更することを**インプレース(破壊的メソッド)**と呼ぶ。\n",
        "* PyTorchではインプレースで変更する関数には**_**が利用されているので注意して利用しよう。\n",
        "\n",
        "---\n",
        "【問題】Tensor`[[1,1,1], [1,2,2], [2,2,3], [3,3,3]]`を宣言した後、zero_()を利用して要素を全て0にして表示しよう。"
      ]
    },
    {
      "cell_type": "code",
      "execution_count": null,
      "metadata": {
        "colab": {
          "base_uri": "https://localhost:8080/",
          "height": 85
        },
        "id": "tkN8LBbLJNtV",
        "outputId": "0f83d9a2-679e-437d-bef5-ba4f34d29c73"
      },
      "outputs": [
        {
          "name": "stdout",
          "output_type": "stream",
          "text": [
            "tensor([[0, 0, 0],\n",
            "        [0, 0, 0],\n",
            "        [0, 0, 0],\n",
            "        [0, 0, 0]])\n"
          ]
        }
      ],
      "source": [
        "t1 = torch.tensor([[1,1,1],[1,2,2],[2,2,3],[3,3,3]])\n",
        "print(t1.zero_())"
      ]
    },
    {
      "cell_type": "markdown",
      "metadata": {
        "id": "PElf4KTBLPLp"
      },
      "source": [
        "- ```\n",
        "tensor([[0, 0, 0],\n",
        "        [0, 0, 0],\n",
        "        [0, 0, 0],\n",
        "        [0, 0, 0]])\n",
        "```\n",
        "と表示されていれば成功だ．"
      ]
    },
    {
      "cell_type": "code",
      "execution_count": null,
      "metadata": {
        "id": "zyxM1mGqLXbD"
      },
      "outputs": [],
      "source": []
    }
  ],
  "metadata": {
    "colab": {
      "provenance": []
    },
    "kernelspec": {
      "display_name": "Python 3",
      "language": "python",
      "name": "python3"
    },
    "language_info": {
      "codemirror_mode": {
        "name": "ipython",
        "version": 3
      },
      "file_extension": ".py",
      "mimetype": "text/x-python",
      "name": "python",
      "nbconvert_exporter": "python",
      "pygments_lexer": "ipython3",
      "version": "3.7.6"
    }
  },
  "nbformat": 4,
  "nbformat_minor": 0
}